{
 "cells": [
  {
   "cell_type": "markdown",
   "metadata": {},
   "source": [
    "Create a numpy array starting from 2 till 50 with a stepsize of 3."
   ]
  },
  {
   "cell_type": "code",
   "execution_count": 1,
   "metadata": {
    "ExecuteTime": {
     "end_time": "2020-11-15T15:46:15.612480Z",
     "start_time": "2020-11-15T15:46:15.606480Z"
    }
   },
   "outputs": [],
   "source": [
    "import numpy as np"
   ]
  },
  {
   "cell_type": "code",
   "execution_count": 8,
   "metadata": {
    "ExecuteTime": {
     "end_time": "2020-11-15T16:04:17.028417Z",
     "start_time": "2020-11-15T16:04:17.019436Z"
    }
   },
   "outputs": [
    {
     "name": "stdout",
     "output_type": "stream",
     "text": [
      "[ 2  5  8 11 14 17 20 23 26 29 32 35 38 41 44 47 50]\n"
     ]
    }
   ],
   "source": [
    "print(np.arange(2,51,3))"
   ]
  },
  {
   "cell_type": "code",
   "execution_count": null,
   "metadata": {},
   "outputs": [],
   "source": []
  },
  {
   "cell_type": "markdown",
   "metadata": {},
   "source": [
    "Accept two lists of 5 elements each from the user.\n",
    "\n",
    "Convert them to numpy arrays. Concatenate these arrays and print it. Also sort these arrays and print it."
   ]
  },
  {
   "cell_type": "code",
   "execution_count": 10,
   "metadata": {
    "ExecuteTime": {
     "end_time": "2020-11-15T16:11:35.215099Z",
     "start_time": "2020-11-15T16:11:35.130074Z"
    }
   },
   "outputs": [
    {
     "name": "stdout",
     "output_type": "stream",
     "text": [
      "Original List :  [2, 1, 3, 5, 4] [8, 6, 7, 10, 9]\n",
      "\n",
      " Converted Numpy Arrays :  [2 1 3 5 4] [ 8  6  7 10  9]\n",
      "\n",
      " Concatenated array :  [ 2  1  3  5  4  8  6  7 10  9]\n",
      "\n",
      " Sorted array :  [ 1  2  3  4  5  6  7  8  9 10]\n"
     ]
    }
   ],
   "source": [
    "list1 = [2,1,3,5,4]\n",
    "list2 = [8,6,7,10,9]\n",
    "print('Original List : ', list1, list2)\n",
    "arr1 = np.array(list1)\n",
    "arr2 = np.array(list2)\n",
    "print('\\n Converted Numpy Arrays : ', arr1, arr2)\n",
    "concat = np.concatenate((arr1, arr2))\n",
    "print('\\n Concatenated array : ', concat)\n",
    "sort = np.sort(concat)\n",
    "print('\\n Sorted array : ', sort)"
   ]
  },
  {
   "cell_type": "code",
   "execution_count": null,
   "metadata": {},
   "outputs": [],
   "source": []
  },
  {
   "cell_type": "markdown",
   "metadata": {},
   "source": [
    "Write a code snippet to find the dimensions of a ndarray and its size."
   ]
  },
  {
   "cell_type": "code",
   "execution_count": 21,
   "metadata": {
    "ExecuteTime": {
     "end_time": "2020-11-15T16:22:06.579325Z",
     "start_time": "2020-11-15T16:22:06.564327Z"
    }
   },
   "outputs": [
    {
     "name": "stdout",
     "output_type": "stream",
     "text": [
      "The array : \n",
      " [[[0.63554287 0.10259646]\n",
      "  [0.29366506 0.04676334]\n",
      "  [0.60564253 0.46018241]]\n",
      "\n",
      " [[0.3938452  0.63905044]\n",
      "  [0.29201125 0.36190575]\n",
      "  [0.35733882 0.68212654]]\n",
      "\n",
      " [[0.64048834 0.20398887]\n",
      "  [0.77093222 0.73240034]\n",
      "  [0.39872612 0.29553987]]]\n",
      "\n",
      " Dimension of the array :  3\n",
      "\n",
      " Size of the array :  18\n"
     ]
    }
   ],
   "source": [
    "arr = np.random.rand(3,3,2)\n",
    "print('The array : \\n', arr)\n",
    "print('\\n Dimension of the array : ', np.ndim(arr))\n",
    "print('\\n Size of the array : ', np.size(arr))"
   ]
  },
  {
   "cell_type": "code",
   "execution_count": null,
   "metadata": {},
   "outputs": [],
   "source": []
  },
  {
   "cell_type": "markdown",
   "metadata": {},
   "source": [
    "How to convert a 1D array into a 2D array? Demonstrate with the help of a code snippet\n",
    "\n",
    "Hint: np.newaxis, np.expand_dims"
   ]
  },
  {
   "cell_type": "code",
   "execution_count": 50,
   "metadata": {
    "ExecuteTime": {
     "end_time": "2020-11-15T16:51:50.988802Z",
     "start_time": "2020-11-15T16:51:50.964801Z"
    }
   },
   "outputs": [
    {
     "name": "stdout",
     "output_type": "stream",
     "text": [
      "Given array :  [0.69613688 0.04910483 0.13137514 0.06075233 0.87842765]\n",
      "Shape :  (5,)\n",
      "\n",
      " Converting the array in 2-d : \n",
      " [[0.39035144]\n",
      " [0.34857783]\n",
      " [0.14798118]\n",
      " [0.61902089]\n",
      " [0.04409687]]\n",
      "Shape :  (5, 1)\n",
      "\n",
      "\n",
      "\n",
      "Given array :  [0 1 2 3]\n",
      "Shape :  (4,)\n",
      "\n",
      " Converting the array in 2-d : \n",
      " [[0]\n",
      " [1]\n",
      " [2]\n",
      " [3]]\n",
      "Shape :  (4, 1)\n"
     ]
    }
   ],
   "source": [
    "# Using np.newaxis\n",
    "arr3 = np.random.random(5)\n",
    "print('Given array : ', arr3)\n",
    "print('Shape : ', arr3.shape)\n",
    "arr4 = np.random.random(5).reshape(5,1)\n",
    "print('\\n Converting the array in 2-d : \\n', arr4)\n",
    "print('Shape : ', arr4.shape)\n",
    "\n",
    "# Using np.expand_dims\n",
    "arr5 = np.arange(4)\n",
    "print('\\n\\n\\nGiven array : ', arr5)\n",
    "print('Shape : ', arr5.shape)\n",
    "arr6 = np.expand_dims(arr5, axis=1)\n",
    "print('\\n Converting the array in 2-d : \\n', arr6)\n",
    "print('Shape : ', arr6.shape)"
   ]
  },
  {
   "cell_type": "code",
   "execution_count": null,
   "metadata": {},
   "outputs": [],
   "source": []
  },
  {
   "cell_type": "markdown",
   "metadata": {},
   "source": [
    "Consider two square numpy arrays. Stack them vertically and horizontally.\n",
    "\n",
    "Hint: Use vstack(), hstack()"
   ]
  },
  {
   "cell_type": "code",
   "execution_count": 61,
   "metadata": {
    "ExecuteTime": {
     "end_time": "2020-11-15T17:01:04.710862Z",
     "start_time": "2020-11-15T17:01:04.693859Z"
    }
   },
   "outputs": [
    {
     "name": "stdout",
     "output_type": "stream",
     "text": [
      "ar1 : \n",
      " [[0.42960156 0.79439683]\n",
      " [0.38310389 0.14376158]]\n",
      "\n",
      " ar2 : \n",
      " [[0.66218223 0.97769864]\n",
      " [0.19697399 0.28286774]]\n",
      "\n",
      " Stack Vertically : \n",
      " [[0.42960156 0.79439683]\n",
      " [0.38310389 0.14376158]\n",
      " [0.66218223 0.97769864]\n",
      " [0.19697399 0.28286774]]\n",
      "\n",
      " Stack Horizontally : \n",
      " [[0.42960156 0.79439683 0.66218223 0.97769864]\n",
      " [0.38310389 0.14376158 0.19697399 0.28286774]]\n"
     ]
    }
   ],
   "source": [
    "ar1 = np.random.rand(2,2)\n",
    "ar2 = np.random.rand(2,2)\n",
    "print('ar1 : \\n', ar1)\n",
    "print('\\n ar2 : \\n', ar2)\n",
    "\n",
    "print('\\n Stack Vertically : \\n', np.vstack((ar1,ar2)))\n",
    "print('\\n Stack Horizontally : \\n', np.hstack((ar1,ar2)))"
   ]
  },
  {
   "cell_type": "code",
   "execution_count": null,
   "metadata": {},
   "outputs": [],
   "source": []
  },
  {
   "cell_type": "markdown",
   "metadata": {},
   "source": [
    "How to get unique items and counts of unique items?"
   ]
  },
  {
   "cell_type": "code",
   "execution_count": 73,
   "metadata": {
    "ExecuteTime": {
     "end_time": "2020-11-15T17:13:00.157971Z",
     "start_time": "2020-11-15T17:13:00.141964Z"
    }
   },
   "outputs": [
    {
     "name": "stdout",
     "output_type": "stream",
     "text": [
      "Array :  [1 4 6 3 5 7 3 5 3 4 3 5 2]\n",
      "\n",
      "Unique Items in Array :  [1 2 3 4 5 6 7]\n",
      "\n",
      "Count of Unique Items in Array :  [1 1 4 2 3 1 1]\n"
     ]
    }
   ],
   "source": [
    "ar = np.array([1,4,6,3,5,7,3,5,3,4,3,5,2])\n",
    "print('Array : ', ar)\n",
    "unique, count = np.unique(ar, return_counts=True)\n",
    "print('\\nUnique Items in Array : ', unique)\n",
    "print('\\nCount of Unique Items in Array : ', count)"
   ]
  }
 ],
 "metadata": {
  "kernelspec": {
   "display_name": "Python 3",
   "language": "python",
   "name": "python3"
  },
  "language_info": {
   "codemirror_mode": {
    "name": "ipython",
    "version": 3
   },
   "file_extension": ".py",
   "mimetype": "text/x-python",
   "name": "python",
   "nbconvert_exporter": "python",
   "pygments_lexer": "ipython3",
   "version": "3.7.6"
  },
  "varInspector": {
   "cols": {
    "lenName": 16,
    "lenType": 16,
    "lenVar": 40
   },
   "kernels_config": {
    "python": {
     "delete_cmd_postfix": "",
     "delete_cmd_prefix": "del ",
     "library": "var_list.py",
     "varRefreshCmd": "print(var_dic_list())"
    },
    "r": {
     "delete_cmd_postfix": ") ",
     "delete_cmd_prefix": "rm(",
     "library": "var_list.r",
     "varRefreshCmd": "cat(var_dic_list()) "
    }
   },
   "types_to_exclude": [
    "module",
    "function",
    "builtin_function_or_method",
    "instance",
    "_Feature"
   ],
   "window_display": false
  }
 },
 "nbformat": 4,
 "nbformat_minor": 4
}

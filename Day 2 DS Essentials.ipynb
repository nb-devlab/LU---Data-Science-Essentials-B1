{
 "cells": [
  {
   "cell_type": "markdown",
   "metadata": {},
   "source": [
    "Create an empty list. Accept 10 numbers from the user and append to it the list if it is an even number."
   ]
  },
  {
   "cell_type": "code",
   "execution_count": 23,
   "metadata": {
    "ExecuteTime": {
     "end_time": "2020-11-10T10:02:08.251653Z",
     "start_time": "2020-11-10T10:01:45.093560Z"
    }
   },
   "outputs": [
    {
     "name": "stdout",
     "output_type": "stream",
     "text": [
      "Enter total number of elements : 10\n",
      "Enter an element : 23\n",
      "Enter an element : 4\n",
      "Enter an element : 7\n",
      "Enter an element : 86\n",
      "Enter an element : 6\n",
      "Enter an element : 9\n",
      "Enter an element : 12\n",
      "Enter an element : 75\n",
      "Enter an element : 48\n",
      "Enter an element : 3\n",
      "user_list :  [23, 4, 7, 86, 6, 9, 12, 75, 48, 3]\n",
      "Filled up empty_list :  [4, 86, 6, 12, 48]\n"
     ]
    }
   ],
   "source": [
    "empty_list = []\n",
    "\n",
    "user_list = []\n",
    "a = int(input('Enter total number of elements : '))\n",
    "\n",
    "for i in range(a):\n",
    "    b = int(input('Enter an element : '))\n",
    "    user_list.append(b)\n",
    "print('user_list : ', user_list)\n",
    "\n",
    "for i in user_list:\n",
    "    if i % 2 == 0:\n",
    "        empty_list.append(i)\n",
    "        \n",
    "print('Filled up empty_list : ', empty_list)"
   ]
  },
  {
   "cell_type": "code",
   "execution_count": null,
   "metadata": {},
   "outputs": [],
   "source": []
  },
  {
   "cell_type": "markdown",
   "metadata": {},
   "source": [
    "Create a notebook on LIST COMPREHENSION. This exercise is to put you in a Self learning mode"
   ]
  },
  {
   "cell_type": "code",
   "execution_count": 33,
   "metadata": {
    "ExecuteTime": {
     "end_time": "2020-11-10T10:16:35.697821Z",
     "start_time": "2020-11-10T10:16:35.686818Z"
    }
   },
   "outputs": [
    {
     "name": "stdout",
     "output_type": "stream",
     "text": [
      "List of Ingredients :  ['Coffee', 'Mug', 'Sugar', 'Filter', 'Mug', 'Jar', 'Mug']\n",
      "Items required :  ['Spoon', 'Flasks', 'Induction Cooktop', 'Casseroles']\n"
     ]
    }
   ],
   "source": [
    "Ingredients = ['Coffee', 'Mug', 'Sugar', 'Filter', 'Mug', 'Jar', 'Mug']\n",
    "Items = ['Spoon', 'Flasks', 'Induction Cooktop', 'Casseroles']\n",
    "\n",
    "print('List of Ingredients : ', Ingredients)\n",
    "print('Items required : ', Items)"
   ]
  },
  {
   "cell_type": "markdown",
   "metadata": {},
   "source": [
    "APPEND"
   ]
  },
  {
   "cell_type": "code",
   "execution_count": 34,
   "metadata": {
    "ExecuteTime": {
     "end_time": "2020-11-10T10:16:44.702224Z",
     "start_time": "2020-11-10T10:16:44.695226Z"
    }
   },
   "outputs": [
    {
     "name": "stdout",
     "output_type": "stream",
     "text": [
      "Revised Items include :  ['Spoon', 'Flasks', 'Induction Cooktop', 'Casseroles', 'Containers']\n"
     ]
    }
   ],
   "source": [
    "Items.append('Containers')\n",
    "print('Revised Items include : ', Items)"
   ]
  },
  {
   "cell_type": "markdown",
   "metadata": {},
   "source": [
    "COUNT"
   ]
  },
  {
   "cell_type": "code",
   "execution_count": 35,
   "metadata": {
    "ExecuteTime": {
     "end_time": "2020-11-10T10:16:50.780268Z",
     "start_time": "2020-11-10T10:16:50.773268Z"
    }
   },
   "outputs": [
    {
     "name": "stdout",
     "output_type": "stream",
     "text": [
      "Number of Mugs :  3\n"
     ]
    }
   ],
   "source": [
    "print('Number of Mugs : ', Ingredients.count('Mug'))"
   ]
  },
  {
   "cell_type": "markdown",
   "metadata": {},
   "source": [
    "EXTEND"
   ]
  },
  {
   "cell_type": "code",
   "execution_count": 36,
   "metadata": {
    "ExecuteTime": {
     "end_time": "2020-11-10T10:16:58.291824Z",
     "start_time": "2020-11-10T10:16:58.282840Z"
    }
   },
   "outputs": [
    {
     "name": "stdout",
     "output_type": "stream",
     "text": [
      "Sum of all Ingredients & Items needed is : \n",
      " ['Coffee', 'Mug', 'Sugar', 'Filter', 'Mug', 'Jar', 'Mug', 'Spoon', 'Flasks', 'Induction Cooktop', 'Casseroles', 'Containers']\n"
     ]
    }
   ],
   "source": [
    "Ingredients.extend(Items)\n",
    "print('Sum of all Ingredients & Items needed is : \\n', Ingredients)"
   ]
  },
  {
   "cell_type": "markdown",
   "metadata": {},
   "source": [
    "INDEX"
   ]
  },
  {
   "cell_type": "code",
   "execution_count": 37,
   "metadata": {
    "ExecuteTime": {
     "end_time": "2020-11-10T10:19:39.555045Z",
     "start_time": "2020-11-10T10:19:39.547041Z"
    }
   },
   "outputs": [
    {
     "name": "stdout",
     "output_type": "stream",
     "text": [
      "Location of Sugar in Ingredients list :  2\n"
     ]
    }
   ],
   "source": [
    "print('Location of Sugar in Ingredients list : ', Ingredients.index('Sugar'))"
   ]
  },
  {
   "cell_type": "markdown",
   "metadata": {},
   "source": [
    "INSERT"
   ]
  },
  {
   "cell_type": "code",
   "execution_count": 45,
   "metadata": {
    "ExecuteTime": {
     "end_time": "2020-11-10T10:24:37.062832Z",
     "start_time": "2020-11-10T10:24:37.053826Z"
    }
   },
   "outputs": [
    {
     "name": "stdout",
     "output_type": "stream",
     "text": [
      "The Items list contains :  ['Spoon', 'Flasks', 'Induction Cooktop', 'Casseroles', 'Containers']\n",
      "\n",
      " New element inserted in Items is :  ['Spoon', 'Flasks', 'Induction Cooktop', 'Glassware', 'Casseroles', 'Containers']\n"
     ]
    }
   ],
   "source": [
    "print('The Items list contains : ', Items)\n",
    "Items.insert(3, 'Glassware')\n",
    "print('\\n New element inserted in Items is : ', Items)"
   ]
  },
  {
   "cell_type": "markdown",
   "metadata": {
    "ExecuteTime": {
     "end_time": "2020-11-10T10:24:31.034049Z",
     "start_time": "2020-11-10T10:24:31.024047Z"
    }
   },
   "source": [
    "POP"
   ]
  },
  {
   "cell_type": "code",
   "execution_count": 46,
   "metadata": {
    "ExecuteTime": {
     "end_time": "2020-11-10T10:25:49.062908Z",
     "start_time": "2020-11-10T10:25:49.053907Z"
    }
   },
   "outputs": [
    {
     "data": {
      "text/plain": [
       "'Containers'"
      ]
     },
     "execution_count": 46,
     "metadata": {},
     "output_type": "execute_result"
    }
   ],
   "source": [
    "# To pop the last element of a list\n",
    "Items.pop()"
   ]
  },
  {
   "cell_type": "markdown",
   "metadata": {},
   "source": [
    "REMOVE"
   ]
  },
  {
   "cell_type": "code",
   "execution_count": 47,
   "metadata": {
    "ExecuteTime": {
     "end_time": "2020-11-10T10:27:47.771867Z",
     "start_time": "2020-11-10T10:27:47.762865Z"
    }
   },
   "outputs": [
    {
     "name": "stdout",
     "output_type": "stream",
     "text": [
      "Items list now conatins :  ['Spoon', 'Flasks', 'Induction Cooktop', 'Casseroles']\n"
     ]
    }
   ],
   "source": [
    "# To specifically remove an element of list\n",
    "Items.remove('Glassware')\n",
    "print('Items list now conatins : ', Items)"
   ]
  },
  {
   "cell_type": "markdown",
   "metadata": {},
   "source": [
    "SORT"
   ]
  },
  {
   "cell_type": "code",
   "execution_count": 49,
   "metadata": {
    "ExecuteTime": {
     "end_time": "2020-11-10T10:29:30.462742Z",
     "start_time": "2020-11-10T10:29:30.454740Z"
    }
   },
   "outputs": [
    {
     "name": "stdout",
     "output_type": "stream",
     "text": [
      "Sorting the Ingredients list : \n",
      " ['Casseroles', 'Coffee', 'Containers', 'Filter', 'Flasks', 'Induction Cooktop', 'Jar', 'Mug', 'Mug', 'Mug', 'Spoon', 'Sugar']\n"
     ]
    }
   ],
   "source": [
    "Ingredients.sort()\n",
    "print('Sorting the Ingredients list : \\n', Ingredients)"
   ]
  },
  {
   "cell_type": "markdown",
   "metadata": {},
   "source": [
    "REVERSE"
   ]
  },
  {
   "cell_type": "code",
   "execution_count": 50,
   "metadata": {
    "ExecuteTime": {
     "end_time": "2020-11-10T10:30:44.562145Z",
     "start_time": "2020-11-10T10:30:44.553147Z"
    }
   },
   "outputs": [
    {
     "name": "stdout",
     "output_type": "stream",
     "text": [
      "Displaying Ingredients in reverse order : \n",
      " ['Sugar', 'Spoon', 'Mug', 'Mug', 'Mug', 'Jar', 'Induction Cooktop', 'Flasks', 'Filter', 'Containers', 'Coffee', 'Casseroles']\n"
     ]
    }
   ],
   "source": [
    "Ingredients.reverse()\n",
    "print('Displaying Ingredients in reverse order : \\n', Ingredients)"
   ]
  },
  {
   "cell_type": "markdown",
   "metadata": {},
   "source": [
    "CLEAR"
   ]
  },
  {
   "cell_type": "code",
   "execution_count": 51,
   "metadata": {
    "ExecuteTime": {
     "end_time": "2020-11-10T10:32:01.912851Z",
     "start_time": "2020-11-10T10:32:01.904850Z"
    }
   },
   "outputs": [
    {
     "name": "stdout",
     "output_type": "stream",
     "text": [
      "Clearing all elements from Ingredients list : \n",
      " []\n"
     ]
    }
   ],
   "source": [
    "Ingredients.clear()\n",
    "print('Clearing all elements from Ingredients list : \\n', Ingredients)"
   ]
  },
  {
   "cell_type": "code",
   "execution_count": null,
   "metadata": {},
   "outputs": [],
   "source": []
  },
  {
   "cell_type": "markdown",
   "metadata": {},
   "source": [
    "You have seen in the videos how powerful dictionary data structure is.\n",
    "In this assignment, given a number n, you have to write a program that generates a dictionary d which\n",
    "contains (i, i*i), where i is from 1 to n (both included).\n",
    "Then you have to just print this dictionary d.\n",
    "Example:\n",
    "Input: 4\n",
    "will give output as\n",
    "{1: 1, 2: 4, 3: 9, 4: 16}\n",
    "Input Format:\n",
    "Take the number n in a single line.\n",
    "Output Format:\n",
    "Print the dictionary d in a single line.\n",
    "\n",
    "Example:\n",
    "Input:\n",
    "8\n",
    "Output:\n",
    "{1: 1, 2: 4, 3: 9, 4: 16, 5: 25, 6: 36, 7: 49, 8: 64}"
   ]
  },
  {
   "cell_type": "code",
   "execution_count": 67,
   "metadata": {
    "ExecuteTime": {
     "end_time": "2020-11-10T16:00:22.536047Z",
     "start_time": "2020-11-10T16:00:19.295566Z"
    }
   },
   "outputs": [
    {
     "name": "stdout",
     "output_type": "stream",
     "text": [
      "Input : 8\n",
      "Output :  {1: 1, 2: 4, 3: 9, 4: 16, 5: 25, 6: 36, 7: 49, 8: 64}\n"
     ]
    }
   ],
   "source": [
    "num = int(input('Input : '))\n",
    "num =num+1\n",
    "\n",
    "i=1\n",
    "j=1\n",
    "output_dict = {j:i}\n",
    "\n",
    "for i in range(1,num):\n",
    "    j=i\n",
    "    dict1 = {j:i*i}\n",
    "    output_dict.update(dict1)\n",
    "print('Output : ', output_dict)"
   ]
  },
  {
   "cell_type": "code",
   "execution_count": null,
   "metadata": {},
   "outputs": [],
   "source": []
  },
  {
   "cell_type": "markdown",
   "metadata": {},
   "source": [
    "There is a robot which wants to go the charging point to charge itself.\n",
    "The robot moves in a 2-D plane from the original point (0,0). The robot can\n",
    "move toward UP, DOWN, LEFT and RIGHT with given steps.\n",
    "The trace of robot movement is shown as the following:\n",
    "UP 5\n",
    "DOWN 3\n",
    "LEFT 3\n",
    "RIGHT 2\n",
    "Then, the output of the program should be:\n",
    "2\n",
    "The numbers after the direction are steps.\n",
    "Write a program to compute the distance between the current position after\n",
    "a sequence of movement and original point. If the distance is a float, then\n",
    "just print the nearest integer (use round() function for that and then convert\n",
    "it into an integer).\n",
    "Input Format:\n",
    "The first line of the input contains a number n which implies the number of\n",
    "directions to be given.\n",
    "The next n lines contain the direction and the step separated by a space.\n",
    "Output Format:\n",
    "Print the distance from the original position to the current position.\n",
    "Example:\n",
    "Input:\n",
    "4\n",
    "UP 5\n",
    "DOWN 3\n",
    "LEFT 3\n",
    "RIGHT 2\n",
    "Output:\n",
    "2"
   ]
  },
  {
   "cell_type": "code",
   "execution_count": 35,
   "metadata": {
    "ExecuteTime": {
     "end_time": "2020-11-15T15:42:41.923383Z",
     "start_time": "2020-11-15T15:42:25.390643Z"
    }
   },
   "outputs": [
    {
     "name": "stdout",
     "output_type": "stream",
     "text": [
      "Input : 4\n",
      "UP 5\n",
      "DOWN 3\n",
      "LEFT 3\n",
      "RIGHT 2\n",
      "Output :  2\n"
     ]
    }
   ],
   "source": [
    "n = int(input('Input : '))\n",
    "\n",
    "\n",
    "a,b = 0,0\n",
    "\n",
    "for i in range(n):\n",
    "    direction_distance = input().split()\n",
    "    \n",
    "    if direction_distance[0] == 'UP':\n",
    "        a = a + int(direction_distance[1])\n",
    "        \n",
    "    elif direction_distance[0] == 'DOWN':\n",
    "        a = a - int(direction_distance[1])\n",
    "        \n",
    "    elif direction_distance[0] == 'LEFT':\n",
    "        b = b - int(direction_distance[1])\n",
    "        \n",
    "    elif direction_distance[0] == 'RIGHT':\n",
    "        b = b + int(direction_distance[1])\n",
    "        \n",
    "    else:\n",
    "        print('Input is invalid. Please Input direction i.e--\"UP\", \"DOWN\", \"LEFT\", \"RIGHT\" followed by the distance')\n",
    "        break\n",
    "\n",
    "\n",
    "# 2-D plane distance calculation :\n",
    "import math as m\n",
    "Total_Distance = round(m.sqrt(a**2 + b**2))\n",
    "print('Output : ', Total_Distance)"
   ]
  }
 ],
 "metadata": {
  "kernelspec": {
   "display_name": "Python 3",
   "language": "python",
   "name": "python3"
  },
  "language_info": {
   "codemirror_mode": {
    "name": "ipython",
    "version": 3
   },
   "file_extension": ".py",
   "mimetype": "text/x-python",
   "name": "python",
   "nbconvert_exporter": "python",
   "pygments_lexer": "ipython3",
   "version": "3.7.6"
  },
  "varInspector": {
   "cols": {
    "lenName": 16,
    "lenType": 16,
    "lenVar": 40
   },
   "kernels_config": {
    "python": {
     "delete_cmd_postfix": "",
     "delete_cmd_prefix": "del ",
     "library": "var_list.py",
     "varRefreshCmd": "print(var_dic_list())"
    },
    "r": {
     "delete_cmd_postfix": ") ",
     "delete_cmd_prefix": "rm(",
     "library": "var_list.r",
     "varRefreshCmd": "cat(var_dic_list()) "
    }
   },
   "types_to_exclude": [
    "module",
    "function",
    "builtin_function_or_method",
    "instance",
    "_Feature"
   ],
   "window_display": false
  }
 },
 "nbformat": 4,
 "nbformat_minor": 4
}
